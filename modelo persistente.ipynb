{
  "nbformat": 4,
  "nbformat_minor": 0,
  "metadata": {
    "colab": {
      "provenance": [],
      "authorship_tag": "ABX9TyMFzShe8N52/JL5e3JMSClb",
      "include_colab_link": true
    },
    "kernelspec": {
      "name": "python3",
      "display_name": "Python 3"
    },
    "language_info": {
      "name": "python"
    }
  },
  "cells": [
    {
      "cell_type": "markdown",
      "metadata": {
        "id": "view-in-github",
        "colab_type": "text"
      },
      "source": [
        "<a href=\"https://colab.research.google.com/github/jose-alfredo-escobar/modelos-python/blob/main/modelo%20persistente.ipynb\" target=\"_parent\"><img src=\"https://colab.research.google.com/assets/colab-badge.svg\" alt=\"Open In Colab\"/></a>"
      ]
    },
    {
      "cell_type": "code",
      "execution_count": 1,
      "metadata": {
        "colab": {
          "base_uri": "https://localhost:8080/"
        },
        "id": "PJVluiy8_WZR",
        "outputId": "346bd912-459c-4360-db8e-469efa5d93e4"
      },
      "outputs": [
        {
          "output_type": "stream",
          "name": "stdout",
          "text": [
            "Frase guardada correctamente.\n",
            "Frase guardada: Estudiar todos los días mejora el aprendizaje.\n",
            "\n",
            "========================================\n",
            "\n",
            "Tareas guardadas correctamente.\n",
            "Tareas pendientes:\n",
            "1. Revisar apuntes de Python\n",
            "2. Practicar ejercicios de persistencia\n",
            "3. Subir proyecto a GitHub\n"
          ]
        }
      ],
      "source": [
        "# Ejercicio 1: Guardar y leer una frase en un archivo\n",
        "\n",
        "def guardar_frase():\n",
        "    \"\"\"Guarda una frase en un archivo de texto.\"\"\"\n",
        "    frase = \"Estudiar todos los días mejora el aprendizaje.\"\n",
        "    try:\n",
        "        with open(\"frase.txt\", \"w\", encoding=\"utf-8\") as archivo:\n",
        "            archivo.write(frase)\n",
        "        print(\"Frase guardada correctamente.\")\n",
        "    except Exception as error:\n",
        "        print(f\"Error al guardar la frase: {error}\")\n",
        "\n",
        "\n",
        "def leer_frase():\n",
        "    \"\"\"Lee y muestra la frase guardada en el archivo.\"\"\"\n",
        "    try:\n",
        "        with open(\"frase.txt\", \"r\", encoding=\"utf-8\") as archivo:\n",
        "            contenido = archivo.read()\n",
        "        print(\"Frase guardada:\", contenido)\n",
        "    except FileNotFoundError:\n",
        "        print(\"El archivo no existe.\")\n",
        "    except Exception as error:\n",
        "        print(f\"Error al leer la frase: {error}\")\n",
        "\n",
        "\n",
        "# Ejercicio 2: Guardar y leer una lista de tareas\n",
        "\n",
        "def guardar_tareas():\n",
        "    \"\"\"Guarda una lista de tareas en un archivo.\"\"\"\n",
        "    tareas = [\n",
        "        \"Revisar apuntes de Python\",\n",
        "        \"Practicar ejercicios de persistencia\",\n",
        "        \"Subir proyecto a GitHub\"\n",
        "    ]\n",
        "    try:\n",
        "        with open(\"tareas.txt\", \"w\", encoding=\"utf-8\") as archivo:\n",
        "            for tarea in tareas:\n",
        "                archivo.write(tarea + \"\\n\")\n",
        "        print(\"Tareas guardadas correctamente.\")\n",
        "    except Exception as error:\n",
        "        print(f\"Error al guardar las tareas: {error}\")\n",
        "\n",
        "\n",
        "def leer_tareas():\n",
        "    \"\"\"Lee y muestra las tareas guardadas en el archivo.\"\"\"\n",
        "    try:\n",
        "        with open(\"tareas.txt\", \"r\", encoding=\"utf-8\") as archivo:\n",
        "            lineas = archivo.readlines()\n",
        "        print(\"Tareas pendientes:\")\n",
        "        for i, tarea in enumerate(lineas, start=1):\n",
        "            print(f\"{i}. {tarea.strip()}\")\n",
        "    except FileNotFoundError:\n",
        "        print(\"El archivo no existe.\")\n",
        "    except Exception as error:\n",
        "        print(f\"Error al leer las tareas: {error}\")\n",
        "\n",
        "\n",
        "# Bloque de pruebas\n",
        "if __name__ == \"__main__\":\n",
        "    guardar_frase()\n",
        "    leer_frase()\n",
        "\n",
        "    print(\"\\n\" + \"=\" * 40 + \"\\n\")\n",
        "\n",
        "    guardar_tareas()\n",
        "    leer_tareas()\n"
      ]
    }
  ]
}