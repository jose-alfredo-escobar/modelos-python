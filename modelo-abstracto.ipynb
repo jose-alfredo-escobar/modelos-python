{
  "nbformat": 4,
  "nbformat_minor": 0,
  "metadata": {
    "colab": {
      "provenance": [],
      "authorship_tag": "ABX9TyOFIauB2IuJCJfUHf19AHnI",
      "include_colab_link": true
    },
    "kernelspec": {
      "name": "python3",
      "display_name": "Python 3"
    },
    "language_info": {
      "name": "python"
    }
  },
  "cells": [
    {
      "cell_type": "markdown",
      "metadata": {
        "id": "view-in-github",
        "colab_type": "text"
      },
      "source": [
        "<a href=\"https://colab.research.google.com/github/jose-alfredo-escobar/modelos-python/blob/main/modelo-abstracto.ipynb\" target=\"_parent\"><img src=\"https://colab.research.google.com/assets/colab-badge.svg\" alt=\"Open In Colab\"/></a>"
      ]
    },
    {
      "cell_type": "code",
      "execution_count": null,
      "metadata": {
        "id": "-yLPEARbAFn-"
      },
      "outputs": [],
      "source": [
        "from abc import ABC, abstractmethod\n",
        "import math\n",
        "\n",
        "# -------------------------------\n",
        "# Ejercicio 1: Figuras geométricas\n",
        "# -------------------------------\n",
        "\n",
        "class Figura(ABC):\n",
        "    \"\"\"Modelo abstracto para figuras geométricas.\"\"\"\n",
        "\n",
        "    @abstractmethod\n",
        "    def calcular_area(self):\n",
        "        \"\"\"Calcula el área de la figura.\"\"\"\n",
        "        pass\n",
        "\n",
        "\n",
        "class Rectangulo(Figura):\n",
        "    \"\"\"Representa un rectángulo con base y altura.\"\"\"\n",
        "\n",
        "    def __init__(self, base: float, altura: float):\n",
        "        self.base = base\n",
        "        self.altura = altura\n",
        "\n",
        "    def calcular_area(self) -> float:\n",
        "        return self.base * self.altura\n",
        "\n",
        "\n",
        "class Circulo(Figura):\n",
        "    \"\"\"Representa un círculo con radio.\"\"\"\n",
        "\n",
        "    def __init__(self, radio: float):\n",
        "        self.radio = radio\n",
        "\n",
        "    def calcular_area(self) -> float:\n",
        "        return math.pi * (self.radio ** 2)\n",
        "\n",
        "\n",
        "# Prueba de figuras\n",
        "rect = Rectangulo(4, 5)\n",
        "circ = Circulo(3)\n",
        "\n",
        "print(\"Áreas de figuras geométricas:\")\n",
        "print(f\"Rectángulo: {rect.calcular_area():.2f}\")\n",
        "print(f\"Círculo: {circ.calcular_area():.2f}\")\n",
        "\n",
        "# -------------------------------\n",
        "# Ejercicio 2: Métodos de pago\n",
        "# -------------------------------\n",
        "\n",
        "class MetodoPago(ABC):\n",
        "    \"\"\"Modelo abstracto para métodos de pago.\"\"\"\n",
        "\n",
        "    @abstractmethod\n",
        "    def procesar_pago(self, monto: float):\n",
        "        \"\"\"Procesa el pago por el monto indicado.\"\"\"\n",
        "        pass\n",
        "\n",
        "\n",
        "class PagoTarjeta(MetodoPago):\n",
        "    \"\"\"Procesa pagos con tarjeta.\"\"\"\n",
        "\n",
        "    def procesar_pago(self, monto: float):\n",
        "        print(f\"Procesando pago de ${monto:.2f} con tarjeta...\")\n",
        "\n",
        "\n",
        "class PagoEfectivo(MetodoPago):\n",
        "    \"\"\"Procesa pagos en efectivo.\"\"\"\n",
        "\n",
        "    def procesar_pago(self, monto: float):\n",
        "        print(f\"Procesando pago de ${monto:.2f} en efectivo...\")\n",
        "\n",
        "\n",
        "# Prueba de pagos\n",
        "tarjeta = PagoTarjeta()\n",
        "efectivo = PagoEfectivo()\n",
        "\n",
        "print(\"\\nProcesamiento de pagos:\")\n",
        "tarjeta.procesar_pago(150.75)\n",
        "efectivo.procesar_pago(80.00)\n"
      ]
    }
  ]
}