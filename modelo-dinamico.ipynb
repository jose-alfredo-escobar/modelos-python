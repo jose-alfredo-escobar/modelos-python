{
  "nbformat": 4,
  "nbformat_minor": 0,
  "metadata": {
    "colab": {
      "provenance": [],
      "authorship_tag": "ABX9TyNy/2BYs4K5duaESI9v0U3q",
      "include_colab_link": true
    },
    "kernelspec": {
      "name": "python3",
      "display_name": "Python 3"
    },
    "language_info": {
      "name": "python"
    }
  },
  "cells": [
    {
      "cell_type": "markdown",
      "metadata": {
        "id": "view-in-github",
        "colab_type": "text"
      },
      "source": [
        "<a href=\"https://colab.research.google.com/github/jose-alfredo-escobar/modelos-python/blob/main/modelo-dinamico.ipynb\" target=\"_parent\"><img src=\"https://colab.research.google.com/assets/colab-badge.svg\" alt=\"Open In Colab\"/></a>"
      ]
    },
    {
      "cell_type": "code",
      "execution_count": null,
      "metadata": {
        "id": "HY0QZ2JqA23V"
      },
      "outputs": [],
      "source": [
        "# -------------------------------\n",
        "# Modelo dinámico: Cuenta Bancaria\n",
        "# -------------------------------\n",
        "\n",
        "class CuentaBancaria:\n",
        "    \"\"\"Representa una cuenta bancaria con operaciones básicas.\"\"\"\n",
        "\n",
        "    def __init__(self, titular: str, saldo_inicial: float = 0.0):\n",
        "        self.titular = titular\n",
        "        self.saldo = saldo_inicial\n",
        "\n",
        "    def depositar(self, monto: float):\n",
        "        \"\"\"Agrega dinero a la cuenta.\"\"\"\n",
        "        if monto > 0:\n",
        "            self.saldo += monto\n",
        "            print(f\"Depósito exitoso: ${monto:.2f}\")\n",
        "        else:\n",
        "            print(\"El monto debe ser positivo.\")\n",
        "\n",
        "    def retirar(self, monto: float):\n",
        "        \"\"\"Retira dinero si hay suficiente saldo.\"\"\"\n",
        "        if monto <= self.saldo:\n",
        "            self.saldo -= monto\n",
        "            print(f\"Retiro exitoso: ${monto:.2f}\")\n",
        "        else:\n",
        "            print(\"Fondos insuficientes.\")\n",
        "\n",
        "    def mostrar_saldo(self):\n",
        "        \"\"\"Muestra el saldo actual.\"\"\"\n",
        "        print(f\"Saldo actual de {self.titular}: ${self.saldo:.2f}\")\n",
        "\n",
        "\n",
        "# -------------------------------\n",
        "#  Modelo dinámico: Inventario\n",
        "# -------------------------------\n",
        "\n",
        "class Inventario:\n",
        "    \"\"\"Representa un inventario de productos.\"\"\"\n",
        "\n",
        "    def __init__(self):\n",
        "        self.productos = {}\n",
        "\n",
        "    def agregar_producto(self, nombre: str, cantidad: int):\n",
        "        \"\"\"Agrega productos al inventario.\"\"\"\n",
        "        if cantidad > 0:\n",
        "            if nombre in self.productos:\n",
        "                self.productos[nombre] += cantidad\n",
        "            else:\n",
        "                self.productos[nombre] = cantidad\n",
        "            print(f\"Se agregaron {cantidad} unidades de '{nombre}'.\")\n",
        "        else:\n",
        "            print(\"La cantidad debe ser positiva.\")\n",
        "\n",
        "    def vender_producto(self, nombre: str, cantidad: int):\n",
        "        \"\"\"Vende productos si hay suficiente stock.\"\"\"\n",
        "        if nombre in self.productos and self.productos[nombre] >= cantidad:\n",
        "            self.productos[nombre] -= cantidad\n",
        "            print(f\"Venta exitosa: {cantidad} unidades de '{nombre}'.\")\n",
        "        else:\n",
        "            print(\"Stock insuficiente o producto no disponible.\")\n",
        "\n",
        "    def mostrar_inventario(self):\n",
        "        \"\"\"Muestra el inventario actual.\"\"\"\n",
        "        print(\"\\n Inventario actual:\")\n",
        "        for nombre, cantidad in self.productos.items():\n",
        "            print(f\"- {nombre}: {cantidad} unidades\")\n",
        "\n",
        "\n",
        "# -------------------------------\n",
        "#  Pruebas del proyecto\n",
        "# -------------------------------\n",
        "\n",
        "# Cuenta bancaria\n",
        "cuenta = CuentaBancaria(\"José\", 100.0)\n",
        "cuenta.mostrar_saldo()\n",
        "cuenta.depositar(50.0)\n",
        "cuenta.retirar(30.0)\n",
        "cuenta.retirar(150.0)\n",
        "cuenta.mostrar_saldo()\n",
        "\n",
        "# Inventario\n",
        "inventario = Inventario()\n",
        "inventario.agregar_producto(\"Laptop\", 10)\n",
        "inventario.agregar_producto(\"Mouse\", 25)\n",
        "inventario.vender_producto(\"Laptop\", 3)\n",
        "inventario.vender_producto(\"Teclado\", 1)\n",
        "inventario.mostrar_inventario()\n"
      ]
    }
  ]
}