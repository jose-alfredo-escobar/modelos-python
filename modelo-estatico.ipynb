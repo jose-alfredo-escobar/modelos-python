{
  "nbformat": 4,
  "nbformat_minor": 0,
  "metadata": {
    "colab": {
      "provenance": [],
      "authorship_tag": "ABX9TyNO/eQmFzz1bYDhxNbXhE3U",
      "include_colab_link": true
    },
    "kernelspec": {
      "name": "python3",
      "display_name": "Python 3"
    },
    "language_info": {
      "name": "python"
    }
  },
  "cells": [
    {
      "cell_type": "markdown",
      "metadata": {
        "id": "view-in-github",
        "colab_type": "text"
      },
      "source": [
        "<a href=\"https://colab.research.google.com/github/jose-alfredo-escobar/modelos-python/blob/main/modelo-estatico.ipynb\" target=\"_parent\"><img src=\"https://colab.research.google.com/assets/colab-badge.svg\" alt=\"Open In Colab\"/></a>"
      ]
    },
    {
      "cell_type": "code",
      "execution_count": null,
      "metadata": {
        "id": "sXgSZfvYBYZ7"
      },
      "outputs": [],
      "source": [
        "class Usuario:\n",
        "    \"\"\"Modelo estático para representar un usuario.\"\"\"\n",
        "\n",
        "    def __init__(self, nombre: str, edad: int, correo: str):\n",
        "        self.nombre = nombre\n",
        "        self.edad = edad\n",
        "        self.correo = correo\n",
        "\n",
        "\n",
        "# -------------------------------\n",
        "# Modelo estático de Producto\n",
        "# -------------------------------\n",
        "\n",
        "class Producto:\n",
        "    \"\"\"Modelo estático para representar un producto.\"\"\"\n",
        "\n",
        "    def __init__(self, nombre: str, precio: float, categoria: str):\n",
        "        self.nombre = nombre\n",
        "        self.precio = precio\n",
        "        self.categoria = categoria\n",
        "\n",
        "\n",
        "# -------------------------------\n",
        "# Pruebas del modelo\n",
        "# -------------------------------\n",
        "\n",
        "# Crear instancia de Usuario\n",
        "usuario1 = Usuario(\"Ana\", 28, \"ana@example.com\")\n",
        "\n",
        "print(\"Información del usuario:\")\n",
        "print(f\"Nombre: {usuario1.nombre}\")\n",
        "print(f\"Edad: {usuario1.edad}\")\n",
        "print(f\"Correo: {usuario1.correo}\")\n",
        "\n",
        "# Crear instancia de Producto\n",
        "producto1 = Producto(\"Laptop\", 1200.00, \"Electrónica\")\n",
        "\n",
        "print(\"\\nInformación del producto:\")\n",
        "print(f\"Nombre: {producto1.nombre}\")\n",
        "print(f\"Precio: ${producto1.precio:.2f}\")\n",
        "print(f\"Categoría: {producto1.categoria}\")\n"
      ]
    }
  ]
}