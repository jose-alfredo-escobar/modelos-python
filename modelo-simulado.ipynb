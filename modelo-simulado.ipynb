{
  "nbformat": 4,
  "nbformat_minor": 0,
  "metadata": {
    "colab": {
      "provenance": [],
      "authorship_tag": "ABX9TyMXb7rloie8RfVbt4bH3GQ6",
      "include_colab_link": true
    },
    "kernelspec": {
      "name": "python3",
      "display_name": "Python 3"
    },
    "language_info": {
      "name": "python"
    }
  },
  "cells": [
    {
      "cell_type": "markdown",
      "metadata": {
        "id": "view-in-github",
        "colab_type": "text"
      },
      "source": [
        "<a href=\"https://colab.research.google.com/github/jose-alfredo-escobar/modelos-python/blob/main/modelo-simulado.ipynb\" target=\"_parent\"><img src=\"https://colab.research.google.com/assets/colab-badge.svg\" alt=\"Open In Colab\"/></a>"
      ]
    },
    {
      "cell_type": "code",
      "execution_count": null,
      "metadata": {
        "id": "JKAJ2L-qBCmS"
      },
      "outputs": [],
      "source": [
        "# Modelo simulado: Auto\n",
        "# -------------------------------\n",
        "\n",
        "class Auto:\n",
        "    \"\"\"Simula el comportamiento de un auto.\"\"\"\n",
        "\n",
        "    def __init__(self, marca: str):\n",
        "        self.marca = marca\n",
        "        self.velocidad = 0\n",
        "\n",
        "    def acelerar(self, incremento: int):\n",
        "        \"\"\"Aumenta la velocidad del auto.\"\"\"\n",
        "        self.velocidad += incremento\n",
        "        print(f\"{self.marca} aceleró a {self.velocidad} km/h.\")\n",
        "\n",
        "    def frenar(self, decremento: int):\n",
        "        \"\"\"Reduce la velocidad del auto.\"\"\"\n",
        "        self.velocidad = max(0, self.velocidad - decremento)\n",
        "        print(f\"{self.marca} frenó a {self.velocidad} km/h.\")\n",
        "\n",
        "    def estado(self):\n",
        "        \"\"\"Muestra el estado actual del auto.\"\"\"\n",
        "        print(f\"{self.marca} está a {self.velocidad} km/h.\")\n",
        "\n",
        "\n",
        "# -------------------------------\n",
        "# Modelo simulado: Pez\n",
        "# -------------------------------\n",
        "\n",
        "class Pez:\n",
        "    \"\"\"Simula el comportamiento de un pez en movimiento.\"\"\"\n",
        "\n",
        "    def __init__(self, especie: str):\n",
        "        self.especie = especie\n",
        "        self.direccion = \"norte\"\n",
        "        self.distancia = 0\n",
        "\n",
        "    def nadar(self, metros: int):\n",
        "        \"\"\"El pez nada cierta distancia.\"\"\"\n",
        "        self.distancia += metros\n",
        "        print(f\"El {self.especie} nadó {metros} metros hacia el {self.direccion}.\")\n",
        "\n",
        "    def cambiar_direccion(self, nueva_direccion: str):\n",
        "        \"\"\"Cambia la dirección del pez.\"\"\"\n",
        "        self.direccion = nueva_direccion\n",
        "        print(f\"El {self.especie} cambió de dirección hacia el {self.direccion}.\")\n",
        "\n",
        "    def estado(self):\n",
        "        \"\"\"Muestra el estado actual del pez.\"\"\"\n",
        "        print(f\"El {self.especie} ha nadado {self.distancia} metros hacia el {self.direccion}.\")\n",
        "\n",
        "\n",
        "# -------------------------------\n",
        "#  Pruebas del proyecto\n",
        "# -------------------------------\n",
        "\n",
        "# Simulación de auto\n",
        "auto1 = Auto(\"Toyota\")\n",
        "auto1.estado()\n",
        "auto1.acelerar(50)\n",
        "auto1.frenar(20)\n",
        "auto1.estado()\n",
        "\n",
        "# Simulación de pez\n",
        "pez1 = Pez(\"salmón\")\n",
        "pez1.estado()\n",
        "pez1.nadar(15)\n",
        "pez1.cambiar_direccion(\"este\")\n",
        "pez1.nadar(10)\n",
        "pez1.estado()\n"
      ]
    }
  ]
}